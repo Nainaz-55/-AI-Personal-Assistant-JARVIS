{
 "cells": [
  {
   "cell_type": "code",
   "execution_count": 1,
   "id": "cc52469a",
   "metadata": {},
   "outputs": [],
   "source": [
    "import os\n",
    "import time\n",
    "import subprocess\n",
    "import json"
   ]
  },
  {
   "cell_type": "code",
   "execution_count": 19,
   "id": "f4178c00",
   "metadata": {},
   "outputs": [],
   "source": [
    "import wolframalpha\n",
    "import requests\n",
    "import webbrowser\n",
    "import wikipedia\n",
    "import datetime"
   ]
  },
  {
   "cell_type": "code",
   "execution_count": 20,
   "id": "646c5f8a",
   "metadata": {},
   "outputs": [],
   "source": [
    "import speech_recognition as sr\n",
    "import pyttsx3"
   ]
  },
  {
   "cell_type": "code",
   "execution_count": 21,
   "id": "e3d70577",
   "metadata": {},
   "outputs": [
    {
     "name": "stdout",
     "output_type": "stream",
     "text": [
      "LOADING YOUR A.I PERSONAL ASSISTANT JARVIS\n"
     ]
    }
   ],
   "source": [
    "print('LOADING YOUR A.I PERSONAL ASSISTANT JARVIS')"
   ]
  },
  {
   "cell_type": "code",
   "execution_count": 22,
   "id": "b74f70a5",
   "metadata": {},
   "outputs": [],
   "source": [
    "engine = pyttsx3.init()\n",
    "#to store the voice\n",
    "voices = engine.getProperty('voices')\n",
    "engine.setProperty('voice','voices[0].id')"
   ]
  },
  {
   "cell_type": "code",
   "execution_count": 23,
   "id": "8497b2a5",
   "metadata": {},
   "outputs": [],
   "source": [
    "def speak(text):\n",
    "    engine.say(text)\n",
    "    engine.runAndWait()"
   ]
  },
  {
   "cell_type": "code",
   "execution_count": 24,
   "id": "7382a074",
   "metadata": {},
   "outputs": [],
   "source": [
    "def wishMe():\n",
    "    hour = datetime.datetime.now().hour\n",
    "    if hour>=0 and hour<12:\n",
    "        speak(\"Hello, good morning Mr. Rayan\")\n",
    "        print(\"Hello, good morning Mr. Rayan\")\n",
    "    elif hour>=12 and hour<=18:#6PM\n",
    "        speak(\"Hello, Good evening Mr. Rayan\")       \n",
    "        print(\"Hello, Good evening Mr. Rayan\")\n",
    "    else:\n",
    "        speak(\"Its alreay the nine time better go to sleep\")        \n",
    "        print(\"Its alreay the nine time better go to sleep\")"
   ]
  },
  {
   "cell_type": "code",
   "execution_count": 25,
   "id": "bcab3e13",
   "metadata": {},
   "outputs": [],
   "source": [
    "def takeCommand():\n",
    "    r = sr.Recognizer()\n",
    "    with sr.Microphone() as source:\n",
    "        print(\"I am Listening\")\n",
    "        audio = r.listen(source)\n",
    "        \n",
    "        try:\n",
    "            statement = r.recognize_google(audio,language='en-in')\n",
    "            print(f\"user said:{statement}\\n\")\n",
    "        except Exeception as e:\n",
    "            speak(\"pardon me, please say that again\")\n",
    "            return \"None\"\n",
    "        return statement"
   ]
  },
  {
   "cell_type": "code",
   "execution_count": 26,
   "id": "b2460406",
   "metadata": {},
   "outputs": [
    {
     "name": "stdout",
     "output_type": "stream",
     "text": [
      "Hello, good morning Mr. Rayan\n"
     ]
    }
   ],
   "source": [
    "speak(\"loading you personal a.i assistant jarves\")\n",
    "wishMe()"
   ]
  },
  {
   "cell_type": "code",
   "execution_count": null,
   "id": "ceb7e1dd",
   "metadata": {},
   "outputs": [],
   "source": [
    "if __name__ == '__main__':\n",
    "    while True:\n",
    "        speak(\"How can i help you ?\")\n",
    "        statement = takeCommand().lower()\n",
    "        if statement == 0:\n",
    "            continue\n",
    "            \n",
    "        if \"goodbye\" in statement or \"ok bye\" in statement or \"stop\" in statement:\n",
    "            speak(\"your personal A.I assistant JARVIS is shutting down, Good bye\")\n",
    "            print(\"your personal A.I assistant JARVIS is shutting down, Good bye\")\n",
    "            break\n",
    "            \n",
    "        if 'wikipedia' in statement:\n",
    "            speak(\"searching wikipedia.......\")\n",
    "            statement = statement.replace(\"wikipedia\",\" \")\n",
    "            results =wikipedia.summary(statement, setences = 3)\n",
    "            speak(\"According to wikipedia.....\")\n",
    "            print(results)\n",
    "            speak(results)\n",
    "            \n",
    "        elif \"open youtube\" in statement:\n",
    "            webbrowser.open_new_tab(\"https://www.youtube.com\")\n",
    "            speak(\"youtube is open for you\")\n",
    "            time.sleep(5)\n",
    "        \n",
    "        elif \"open google\" in statement:\n",
    "            webbrowser.open_new_tab(\"https://www.google.com\")\n",
    "            speak(\"Google search is open for you\")\n",
    "            time.sleep(5)\n",
    "            \n",
    "        elif \"open gmail\" in statement:\n",
    "            webbrowser.open_new_tab(\"gmail.com\")\n",
    "            speak(\"Your gmail is open for you\")\n",
    "            time.sleep(5)\n",
    "            \n",
    "        elif \"weather\" in statement:\n",
    "            api_key = \"8ef61edcf1c576d65d836254e11ea420\"\n",
    "            base_url = \"https://api.openweathermap.org/data/2.5/weather?\"\n",
    "            speak(\"whats the city name\")\n",
    "            city_name = takeCommand()\n",
    "            complete_url = base_url + \"appid = \"+api_key+\"&q=\"+city_name\n",
    "            response = requests.get(complete_url)\n",
    "            x = response.json()\n",
    "            if x[\"cod\"]!=\"404\":\n",
    "                y = x[\"main\"]\n",
    "                current_temperature = y[\"temp\"]\n",
    "                current_humidity = y[\"humidity\"]\n",
    "                z = x[\"weather\"]\n",
    "                weather_description + z[0][\"description\"]\n",
    "                speak(\"the temperature in kelvin units is \" + str(current_temperature) + \"\\n humidity in percentage is \" + str(current_humidity) + \"\\n weather description is \"+str(weather_description))\n",
    "                print(\"the temperature in kelvin units is \" + str(current_temperature) + \"\\n humidity in percentage is \" + str(current_humidity) + \"\\n weather description is \"+str(weather_description))\n",
    "            else:\n",
    "                speak(\"city not found\")\n",
    "                print(\"city not found\")\n",
    "        \n",
    "        elif \"time\" in statement:\n",
    "            strTime = datetime.datetime.now().strftime(\"%H:%M:%S\")\n",
    "            speak(f\"the time is {strTime}\")\n",
    "        \n",
    "        elif \"who are you\" in statement or \"what can you do\" in statement:\n",
    "            speak(\"I am JARVIS version 1 point 0 your personal assistant. I can perform the following task it can open YouTube, Gmail, Google chrome and stack overflow. Predict current time, take a photo, search Wikipedia to abstract required data, predict weather in different cities, get top headline news from Times of India and can answer computational and geographical questions too.\")\n",
    "            \n",
    "        elif \"who made you\" in statement or \"who created you\" in statement or \"who discovered you\" in statement:\n",
    "            speak(\"I WAS BUILT BY NAINAZ\")\n",
    "            print(\"I WAS BUILT BY NAINAZ\")\n",
    "            \n",
    "        elif \"open stack overflow\" in statement:\n",
    "            webbrowser.open_new_tab(\"https://stackoverflow.com/login\")\n",
    "            time.sleep(5)\n",
    "            \n",
    "        elif \"news\" in statement:\n",
    "            news = webbrowserbrowser.open_new_tab(\"https://timesofindia.indiatimes.com/home/headlines\")\n",
    "            speak(\"here are some headlines for you from times of india - happy reading\")\n",
    "            time.sleep(7)\n",
    "            \n",
    "        elif \"search\" in statement:\n",
    "            statement = statement.replace(\"search\",\" \")\n",
    "            webbrowser.open_new_tab(\"statement\")\n",
    "            time.sleep(5)\n",
    "            \n",
    "        elif \"ask\" in statement:\n",
    "            speak(\"I can answer to computational and geographical questions too just try me !! what do you want to ask\")\n",
    "            question = takecommand()\n",
    "            app_id = \"R2K75H-7ELALHR35X\"\n",
    "            client =  wolframalpha.Client(\"R2K75H-7ELALHR35X\")\n",
    "            res = client.query(question)\n",
    "            answer = next(res.results).text\n",
    "            speak(answer)\n",
    "            print(answer)\n",
    "            \n",
    "        elif \"log off\" in statement or \"sign out\" in statement or \"shut down\" in statement:\n",
    "            speak(\"ok, your PC will shut down in 10 seconds - make sure you saved and exit from all applications\")\n",
    "            subprocess.call([\"shutdown\",\"/1\"])\n",
    "            \n",
    "time.sleep(3)\n",
    "        \n",
    "        \n",
    "                \n",
    "            "
   ]
  },
  {
   "cell_type": "code",
   "execution_count": null,
   "id": "ebc28f8d",
   "metadata": {},
   "outputs": [],
   "source": []
  }
 ],
 "metadata": {
  "kernelspec": {
   "display_name": "Python 3",
   "language": "python",
   "name": "python3"
  },
  "language_info": {
   "codemirror_mode": {
    "name": "ipython",
    "version": 3
   },
   "file_extension": ".py",
   "mimetype": "text/x-python",
   "name": "python",
   "nbconvert_exporter": "python",
   "pygments_lexer": "ipython3",
   "version": "3.8.8"
  }
 },
 "nbformat": 4,
 "nbformat_minor": 5
}
